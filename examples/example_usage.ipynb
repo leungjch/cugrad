{
 "cells": [
  {
   "cell_type": "code",
   "execution_count": 11,
   "metadata": {},
   "outputs": [
    {
     "name": "stdout",
     "output_type": "stream",
     "text": [
      "<Tensor data=2.000000, grad=0.000000, label=a>\n"
     ]
    }
   ],
   "source": [
    "import cugrad\n",
    "a = cugrad.Tensor(2.0); a.label = 'a'\n",
    "b = cugrad.Tensor(3.0); b.label = 'b'\n",
    "c = cugrad.Tensor(1.0); c.label = 'c'\n",
    "d = a * b; d.label = 'd'\n",
    "e = d + c; e.label = 'e'\n",
    "e.backward()\n",
    "\n",
    "def dfs(t):\n",
    "    print(t)\n",
    "    for child in t.children:\n",
    "        dfs(child)\n",
    "\n",
    "dfs(e)"
   ]
  }
 ],
 "metadata": {
  "kernelspec": {
   "display_name": "base",
   "language": "python",
   "name": "python3"
  },
  "language_info": {
   "codemirror_mode": {
    "name": "ipython",
    "version": 3
   },
   "file_extension": ".py",
   "mimetype": "text/x-python",
   "name": "python",
   "nbconvert_exporter": "python",
   "pygments_lexer": "ipython3",
   "version": "3.12.2"
  }
 },
 "nbformat": 4,
 "nbformat_minor": 2
}
