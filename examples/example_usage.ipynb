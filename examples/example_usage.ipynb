{
 "cells": [
  {
   "cell_type": "code",
   "execution_count": 1,
   "metadata": {},
   "outputs": [
    {
     "name": "stdout",
     "output_type": "stream",
     "text": [
      "<cugrad.tensor.Tensor object at 0x7930c69072f0>\n",
      "<cugrad.tensor.Tensor object at 0x7930c6904c30>\n",
      "<cugrad.tensor.Tensor object at 0x7930c73fd130>\n",
      "<cugrad.tensor.Tensor object at 0x7930c73fda30>\n",
      "<cugrad.tensor.Tensor object at 0x7930c73fdc30>\n"
     ]
    }
   ],
   "source": [
    "from cugrad.tensor import Tensor\n",
    "a = Tensor([1]); a.data = [2.0]; a.label = 'a'\n",
    "b = Tensor([1]); b.data = [3.0]; b.label = 'b'\n",
    "c = Tensor([1]); c.data = [1.0]; c.label = 'c'\n",
    "d = a * b; d.label = 'd'\n",
    "e = d + c; e.label = 'e'\n",
    "e.backward()\n",
    "\n",
    "def dfs(t):\n",
    "    print(t)\n",
    "    for child in t.children:\n",
    "        dfs(child)\n",
    "\n",
    "dfs(e)"
   ]
  },
  {
   "cell_type": "code",
   "execution_count": 8,
   "metadata": {},
   "outputs": [
    {
     "name": "stdout",
     "output_type": "stream",
     "text": [
      "<cugrad.tensor.Tensor object at 0x7930bf5367b0>\n",
      "<cugrad.tensor.Tensor object at 0x7930bf536770>\n",
      "<cugrad.tensor.Tensor object at 0x7930bf536430>\n",
      "<cugrad.tensor.Tensor object at 0x7930bf536670>\n",
      "<cugrad.tensor.Tensor object at 0x7930bf5366f0>\n",
      "Computation graph saved as graphs/example_compute_graph.png\n",
      "<cugrad.tensor.Tensor object at 0x7930bf536e70>\n",
      "Computation graph saved as graphs/layer_compute_graph.png\n"
     ]
    },
    {
     "ename": "ValueError",
     "evalue": "Shapes must match for this operation.",
     "output_type": "error",
     "traceback": [
      "\u001b[0;31m---------------------------------------------------------------------------\u001b[0m",
      "\u001b[0;31mValueError\u001b[0m                                Traceback (most recent call last)",
      "Cell \u001b[0;32mIn[8], line 90\u001b[0m\n\u001b[1;32m     86\u001b[0m     draw_compute_graph(loss, filename\u001b[38;5;241m=\u001b[39m\u001b[38;5;124m\"\u001b[39m\u001b[38;5;124mgraphs/mlp_compute_graph\u001b[39m\u001b[38;5;124m\"\u001b[39m, \u001b[38;5;28mformat\u001b[39m\u001b[38;5;241m=\u001b[39m\u001b[38;5;124m\"\u001b[39m\u001b[38;5;124mpng\u001b[39m\u001b[38;5;124m\"\u001b[39m)\n\u001b[1;32m     89\u001b[0m \u001b[38;5;28;01mif\u001b[39;00m \u001b[38;5;18m__name__\u001b[39m \u001b[38;5;241m==\u001b[39m \u001b[38;5;124m\"\u001b[39m\u001b[38;5;124m__main__\u001b[39m\u001b[38;5;124m\"\u001b[39m:\n\u001b[0;32m---> 90\u001b[0m     \u001b[43mmain\u001b[49m\u001b[43m(\u001b[49m\u001b[43m)\u001b[49m\n",
      "Cell \u001b[0;32mIn[8], line 73\u001b[0m, in \u001b[0;36mmain\u001b[0;34m()\u001b[0m\n\u001b[1;32m     70\u001b[0m y \u001b[38;5;241m=\u001b[39m mlp(x)\n\u001b[1;32m     72\u001b[0m \u001b[38;5;66;03m# Compute loss\u001b[39;00m\n\u001b[0;32m---> 73\u001b[0m loss \u001b[38;5;241m=\u001b[39m (\u001b[43my\u001b[49m\u001b[43m \u001b[49m\u001b[38;5;241;43m-\u001b[39;49m\u001b[43m \u001b[49m\u001b[43mtarget\u001b[49m) \u001b[38;5;241m*\u001b[39m (y \u001b[38;5;241m-\u001b[39m target)\n\u001b[1;32m     74\u001b[0m loss\u001b[38;5;241m.\u001b[39mlabel \u001b[38;5;241m=\u001b[39m \u001b[38;5;124m'\u001b[39m\u001b[38;5;124mloss\u001b[39m\u001b[38;5;124m'\u001b[39m\n\u001b[1;32m     76\u001b[0m \u001b[38;5;66;03m# Backward pass\u001b[39;00m\n",
      "\u001b[0;31mValueError\u001b[0m: Shapes must match for this operation."
     ]
    }
   ],
   "source": [
    "from cugrad.tensor import Tensor\n",
    "from cugrad.nn import Layer\n",
    "from draw_graph import draw_compute_graph\n",
    "\n",
    "def main():\n",
    "    # Create tensors\n",
    "    a = Tensor([1]); a.data = [2.0]\n",
    "    a.label = 'a'\n",
    "    b = Tensor([1]); b.data = [3.0]\n",
    "    b.label = 'b'\n",
    "    c = Tensor([1]); c.data = [1.0]\n",
    "    c.label = 'c'\n",
    "    \n",
    "    # Perform operations\n",
    "    d = a * b\n",
    "    d.label = 'd'\n",
    "    e = d + c\n",
    "    e.label = 'e'\n",
    "    \n",
    "    # Perform backward pass\n",
    "    e.backward()\n",
    "    \n",
    "    # Print tensors\n",
    "    print(e)\n",
    "    print(d)\n",
    "    print(a)\n",
    "    print(b)\n",
    "    print(c)\n",
    "    \n",
    "    # Visualize the computation graph\n",
    "    draw_compute_graph(e, filename=\"graphs/example_compute_graph\", format=\"png\")\n",
    "    \n",
    "    # Example usage of Layer\n",
    "    x0 = Tensor([1]); x0.data = [2.0];\n",
    "    x0.label = 'x0'\n",
    "    x1 = Tensor([1]); x1.data = [3.0];\n",
    "    x1.label = 'x1'\n",
    "    x = Tensor([2]); x.data = [x1.data[0], x0.data[0]];\n",
    "    n = Layer(2, 3)\n",
    "    \n",
    "    res = n(x)\n",
    "    print(res)\n",
    "    \n",
    "    # Perform backward pass on one of the results\n",
    "    res.backward()\n",
    "    \n",
    "    # Visualize the computation graph for the last result\n",
    "    draw_compute_graph(res, filename=\"graphs/layer_compute_graph\", format=\"png\")\n",
    "\n",
    "\n",
    "    # Example usage of MLP\n",
    "\n",
    "    from cugrad.nn import MLP\n",
    "    from cugrad.optimizer import SGD\n",
    "\n",
    "    # Create a simple MLP\n",
    "    mlp = MLP(1, [8, 4, 2, 1])\n",
    "    \n",
    "    # Create an optimizer\n",
    "    optimizer = SGD(mlp.parameters(), lr=0.01)\n",
    "\n",
    "    # Create input tensor\n",
    "    x = Tensor([1]); x.data = [2.0]\n",
    "\n",
    "    # Create target tensor\n",
    "    target = Tensor([1]); target.data = [1.0]\n",
    "    target.label = 'target'\n",
    "\n",
    "    # Forward pass\n",
    "    y = mlp(x)\n",
    "\n",
    "    # Compute loss\n",
    "    loss = (y - target) * (y - target)\n",
    "    loss.label = 'loss'\n",
    "\n",
    "    # Backward pass\n",
    "    loss.backward()\n",
    "\n",
    "    # Update weights\n",
    "    optimizer.step()\n",
    "\n",
    "    # Print the model\n",
    "    print(mlp)\n",
    "\n",
    "    # Visualize the computation graph\n",
    "    draw_compute_graph(loss, filename=\"graphs/mlp_compute_graph\", format=\"png\")\n",
    "\n",
    "\n",
    "if __name__ == \"__main__\":\n",
    "    main()\n"
   ]
  }
 ],
 "metadata": {
  "kernelspec": {
   "display_name": "base",
   "language": "python",
   "name": "python3"
  },
  "language_info": {
   "codemirror_mode": {
    "name": "ipython",
    "version": 3
   },
   "file_extension": ".py",
   "mimetype": "text/x-python",
   "name": "python",
   "nbconvert_exporter": "python",
   "pygments_lexer": "ipython3",
   "version": "3.12.2"
  }
 },
 "nbformat": 4,
 "nbformat_minor": 2
}
