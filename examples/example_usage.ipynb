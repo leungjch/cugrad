{
 "cells": [
  {
   "cell_type": "code",
   "execution_count": 3,
   "metadata": {},
   "outputs": [
    {
     "name": "stdout",
     "output_type": "stream",
     "text": [
      "<cugrad.tensor.Tensor object at 0x71a7a03b90f0>\n",
      "<cugrad.tensor.Tensor object at 0x71a7a03bb270>\n",
      "<cugrad.tensor.Tensor object at 0x71a7a03b9d30>\n",
      "<cugrad.tensor.Tensor object at 0x71a7a03ba4b0>\n",
      "<cugrad.tensor.Tensor object at 0x71a7a03b8d30>\n"
     ]
    }
   ],
   "source": [
    "from cugrad.tensor import Tensor\n",
    "a = Tensor([1]); a.data = [2.0]; a.label = 'a'\n",
    "b = Tensor([1]); b.data = [3.0]; b.label = 'b'\n",
    "c = Tensor([1]); c.data = [1.0]; c.label = 'c'\n",
    "d = a * b; d.label = 'd'\n",
    "e = d + c; e.label = 'e'\n",
    "e.backward()\n",
    "\n",
    "def dfs(t):\n",
    "    print(t)\n",
    "    for child in t.children:\n",
    "        dfs(child)\n",
    "\n",
    "dfs(e)"
   ]
  },
  {
   "cell_type": "code",
   "execution_count": 8,
   "metadata": {},
   "outputs": [
    {
     "name": "stdout",
     "output_type": "stream",
     "text": [
      "<cugrad.tensor.Tensor object at 0x7c97280b9ab0>\n",
      "<cugrad.tensor.Tensor object at 0x7c97280b9f70>\n",
      "<cugrad.tensor.Tensor object at 0x7c97280b99b0>\n",
      "<cugrad.tensor.Tensor object at 0x7c97280f8ff0>\n",
      "<cugrad.tensor.Tensor object at 0x7c97280b85b0>\n",
      "Computation graph saved as example_compute_graph.png\n",
      "<cugrad.tensor.Tensor object at 0x7c97280caf30>\n",
      "Computation graph saved as layer_compute_graph.png\n"
     ]
    }
   ],
   "source": [
    "from cugrad.tensor import Tensor\n",
    "from cugrad.nn import Layer\n",
    "from draw_graph import draw_compute_graph\n",
    "\n",
    "def main():\n",
    "    # Create tensors\n",
    "    a = Tensor([1]); a.data = [2.0]\n",
    "    a.label = 'a'\n",
    "    b = Tensor([1]); b.data = [3.0]\n",
    "    b.label = 'b'\n",
    "    c = Tensor([1]); c.data = [1.0]\n",
    "    c.label = 'c'\n",
    "    \n",
    "    # Perform operations\n",
    "    d = a * b\n",
    "    d.label = 'd'\n",
    "    e = d + c\n",
    "    e.label = 'e'\n",
    "    \n",
    "    # Perform backward pass\n",
    "    e.backward()\n",
    "    \n",
    "    # Print tensors\n",
    "    print(e)\n",
    "    print(d)\n",
    "    print(a)\n",
    "    print(b)\n",
    "    print(c)\n",
    "    \n",
    "    # Visualize the computation graph\n",
    "    draw_compute_graph(e, filename=\"example_compute_graph\", format=\"png\")\n",
    "    \n",
    "    # Example usage of Layer\n",
    "    x0 = Tensor([1]); x0.data = [2.0];\n",
    "    x0.label = 'x0'\n",
    "    x1 = Tensor([1]); x1.data = [3.0];\n",
    "    x1.label = 'x1'\n",
    "    x = Tensor([2]); x.data = [x1.data[0], x0.data[0]];\n",
    "    n = Layer(2, 3)\n",
    "    \n",
    "    res = n(x)\n",
    "    print(res)\n",
    "    \n",
    "    # Perform backward pass on one of the results\n",
    "    res.backward()\n",
    "    \n",
    "    # Visualize the computation graph for the last result\n",
    "    draw_compute_graph(res, filename=\"layer_compute_graph\", format=\"png\")\n",
    "\n",
    "if __name__ == \"__main__\":\n",
    "    main()\n"
   ]
  }
 ],
 "metadata": {
  "kernelspec": {
   "display_name": "base",
   "language": "python",
   "name": "python3"
  },
  "language_info": {
   "codemirror_mode": {
    "name": "ipython",
    "version": 3
   },
   "file_extension": ".py",
   "mimetype": "text/x-python",
   "name": "python",
   "nbconvert_exporter": "python",
   "pygments_lexer": "ipython3",
   "version": "3.12.2"
  }
 },
 "nbformat": 4,
 "nbformat_minor": 2
}
