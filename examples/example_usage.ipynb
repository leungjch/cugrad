{
 "cells": [
  {
   "cell_type": "code",
   "execution_count": 4,
   "metadata": {},
   "outputs": [
    {
     "name": "stdout",
     "output_type": "stream",
     "text": [
      "a = <Value data=2.000000, grad=0.000000>\n",
      "b = <Value data=-3.000000, grad=0.000000>\n",
      "c = <Value data=10.000000, grad=0.000000>\n",
      "\n",
      "Performing arithmetic operations:\n",
      "d = a * b + c = <Value data=4.000000, grad=0.000000>\n"
     ]
    }
   ],
   "source": [
    "import cugrad\n",
    "\n",
    "a = cugrad.Tensor(2.0)\n",
    "b = cugrad.Tensor(-3.0)\n",
    "c = cugrad.Tensor(10.0)\n",
    "\n",
    "print(\"a =\", a)  # <Tensor data=2.0, grad=0.0>\n",
    "print(\"b =\", b)  # <Tensor data=-3.0, grad=0.0>\n",
    "print(\"c =\", c)  # <Tensor data=10.0, grad=0.0>\n",
    "\n",
    "print(\"\\nPerforming arithmetic operations:\")\n",
    "d = a * b + c\n",
    "print(\"d = a * b + c =\", d)  # Expected: <Tensor data=4.0, grad=-3.0>\n"
   ]
  },
  {
   "cell_type": "code",
   "execution_count": null,
   "metadata": {},
   "outputs": [],
   "source": []
  }
 ],
 "metadata": {
  "kernelspec": {
   "display_name": "base",
   "language": "python",
   "name": "python3"
  },
  "language_info": {
   "codemirror_mode": {
    "name": "ipython",
    "version": 3
   },
   "file_extension": ".py",
   "mimetype": "text/x-python",
   "name": "python",
   "nbconvert_exporter": "python",
   "pygments_lexer": "ipython3",
   "version": "3.12.2"
  }
 },
 "nbformat": 4,
 "nbformat_minor": 2
}
